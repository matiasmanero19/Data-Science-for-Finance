{
  "nbformat": 4,
  "nbformat_minor": 0,
  "metadata": {
    "kernelspec": {
      "display_name": "Python 3",
      "language": "python",
      "name": "python3"
    },
    "language_info": {
      "codemirror_mode": {
        "name": "ipython",
        "version": 3
      },
      "file_extension": ".py",
      "mimetype": "text/x-python",
      "name": "python",
      "nbconvert_exporter": "python",
      "pygments_lexer": "ipython3",
      "version": "3.7.9-final"
    },
    "colab": {
      "name": "02_intro_python3.ipynb",
      "provenance": []
    }
  },
  "cells": [
    {
      "cell_type": "markdown",
      "metadata": {
        "id": "_VhrIceYiTHf",
        "colab_type": "text"
      },
      "source": [
        "<a href=\"https://colab.research.google.com/github/UCEMA-QUANt/Data-Science-for-Finance/blob/master/02_intro_python3.ipynb\" target=\"_parent\"><img src=\"https://colab.research.google.com/assets/colab-badge.svg\" alt=\"Open In Colab\"/></a>"
      ]
    },
    {
      "cell_type": "markdown",
      "metadata": {
        "id": "gwajd8OViTHi",
        "colab_type": "text"
      },
      "source": [
        "### Definición de funciones\n",
        "\n",
        "Las funciones se definen con la palabra clave `def`\n",
        "\n",
        "```python\n",
        "def funcion(argumento1, argumento2, argumento_con_default=None, \n",
        "            *argumentos_posicionales_aninimos, **otros_argumentos_con_nombre)\n",
        "    # hacer algo\n",
        "    algo = 0\n",
        "    return algo\n",
        "```"
      ]
    },
    {
      "cell_type": "code",
      "metadata": {
        "tags": [],
        "id": "chSZ5gyiiTHk",
        "colab_type": "code",
        "colab": {}
      },
      "source": [
        "def fun():\n",
        "    print(\"hago cuentas\")\n",
        "    return 1, 2, 3\n",
        "print(\"fuera de funcion\")"
      ],
      "execution_count": null,
      "outputs": []
    },
    {
      "cell_type": "code",
      "metadata": {
        "tags": [],
        "id": "JOksxlTiiTH1",
        "colab_type": "code",
        "colab": {}
      },
      "source": [
        "fun()"
      ],
      "execution_count": null,
      "outputs": []
    },
    {
      "cell_type": "code",
      "metadata": {
        "tags": [],
        "id": "7ggA0CG0iTIA",
        "colab_type": "code",
        "colab": {}
      },
      "source": [
        "def funcionCompleja(a, b=1, *args, **kwargs):\n",
        "    \"esta viene con ayuda\"\n",
        "    print(\"a =\", a)\n",
        "    print(\"b =\", b)\n",
        "    for i, arg in enumerate(args):\n",
        "        print(\"elemento {0} de args es igual a {1}\".format(i, arg))\n",
        "    for i, arg in enumerate(kwargs):\n",
        "        print(\"elemento {0} de kwargs es igual a {1}\".format(arg, kwargs[arg]))\n",
        "    return 1\n",
        "\n"
      ],
      "execution_count": 3,
      "outputs": []
    },
    {
      "cell_type": "code",
      "metadata": {
        "tags": [],
        "id": "lU3rUv2kiTII",
        "colab_type": "code",
        "colab": {}
      },
      "source": [
        "funcionCompleja(10)"
      ],
      "execution_count": null,
      "outputs": []
    },
    {
      "cell_type": "code",
      "metadata": {
        "tags": [],
        "id": "tf6MQ8WaiTIb",
        "colab_type": "code",
        "colab": {}
      },
      "source": [
        "funcionCompleja(\"a\", \"b\", \"otro1\", \"otro2\", nombrado1=\"tiene nombre\", nombrado2=\"este tambien\")"
      ],
      "execution_count": null,
      "outputs": []
    },
    {
      "cell_type": "code",
      "metadata": {
        "tags": [],
        "id": "A2Cd-byoiTIw",
        "colab_type": "code",
        "colab": {}
      },
      "source": [
        "#unpacking \n",
        "j = fun()\n",
        "print(f\"j es igual a {j}\")\n",
        "x, y, z = fun()\n",
        "f\"x es igual a {x}\""
      ],
      "execution_count": null,
      "outputs": []
    },
    {
      "cell_type": "code",
      "metadata": {
        "tags": [],
        "id": "aFOH4NyRiTI7",
        "colab_type": "code",
        "colab": {}
      },
      "source": [
        "help(funcionCompleja)"
      ],
      "execution_count": null,
      "outputs": []
    },
    {
      "cell_type": "code",
      "metadata": {
        "id": "fvo-EQbviTJE",
        "colab_type": "code",
        "colab": {}
      },
      "source": [
        "funcionCompleja?"
      ],
      "execution_count": 7,
      "outputs": []
    },
    {
      "cell_type": "markdown",
      "metadata": {
        "id": "G3giR5xciTJL",
        "colab_type": "text"
      },
      "source": [
        "### Definición de Clases\n",
        "\n",
        "Python admite dos paradigmas de programación:\n",
        "*   Programación Estructurada \n",
        "*   Programación Orientada a Objetos \n",
        "\n",
        "Para lo segundo, introducimos el concepto de **Clases**\n"
      ]
    },
    {
      "cell_type": "markdown",
      "metadata": {
        "id": "d9MLYYCfphP8",
        "colab_type": "text"
      },
      "source": [
        "A partir de una clase creamos determinados **Objetos** con caracteristicas definidas. \n",
        "\n",
        "Dichos Objetos son entidades que tienen un *Comportamiento*; un *Estado*; *Almacenan Información* y pueden *Realizar Tareas*."
      ]
    },
    {
      "cell_type": "markdown",
      "metadata": {
        "id": "JbTvB-EEpLfw",
        "colab_type": "text"
      },
      "source": [
        "\n",
        "---\n",
        "\n",
        "Ejemplo simple para los que no vienen de formación en Programación:\n",
        "\n",
        "Tenemos la Clase: **Animal**\n",
        "\n",
        "El objeto instanciado (creado a partir de esa clase): **Perro**\n",
        "\n",
        "Que tiene sus atributos:\n",
        "*   Color: negro\n",
        "*   Raza: Coquer\n",
        "*   Tiene collar: True\n",
        "\n",
        "Y tiene sus métodos:\n",
        "*   Ladra (“Guau; guau”)\n",
        "*   Corre ()\n",
        "*   Camina()\n",
        "*   Olfatea()\n",
        "\n",
        "---\n"
      ]
    },
    {
      "cell_type": "markdown",
      "metadata": {
        "id": "QsGpGBvbsHdi",
        "colab_type": "text"
      },
      "source": [
        "\n",
        "Las clases se definen con la palabra clave `class`, los argumentos de una clase tienen que ser otras clases de las cuales hereda"
      ]
    },
    {
      "cell_type": "code",
      "metadata": {
        "id": "4JxPAqKLvuRY",
        "colab_type": "code",
        "colab": {}
      },
      "source": [
        "class perro(object):\n",
        "    \"\"\"\n",
        "    doc string de la clase\n",
        "    \"\"\"\n",
        "    def __init__(self, Color, Edad):\n",
        "        \"\"\"\n",
        "        el método __init__ es el que se llama al crear una instancia de la clase, \n",
        "        tiene ciertas similitudes con un constructor en otros lenguajes. \n",
        "        \"\"\"\n",
        "        self.Color = Color\n",
        "        self.Edad = Edad\n",
        "\n",
        "    def presentar(self):\n",
        "        \"\"\"\n",
        "        doc string del método\n",
        "        \"\"\"\n",
        "        return f\"Es un perro de color {self.Color} y de {self.Edad} años de edad\""
      ],
      "execution_count": 9,
      "outputs": []
    },
    {
      "cell_type": "code",
      "metadata": {
        "id": "BGeHaNfIvvhk",
        "colab_type": "code",
        "colab": {}
      },
      "source": [
        "Coquer = perro(Color = \"Marron\", Edad = 10)"
      ],
      "execution_count": 11,
      "outputs": []
    },
    {
      "cell_type": "code",
      "metadata": {
        "id": "_8tbi5qRwTMj",
        "colab_type": "code",
        "colab": {}
      },
      "source": [
        "Coquer.presentar()"
      ],
      "execution_count": null,
      "outputs": []
    },
    {
      "cell_type": "code",
      "metadata": {
        "id": "KZs0xs5IiTJN",
        "colab_type": "code",
        "colab": {}
      },
      "source": [
        "class MiClase(object):\n",
        "    \"\"\"\n",
        "    doc string de la clase\n",
        "    \"\"\"\n",
        "    \n",
        "    def __init__(self, arg1=None, arg2=None):\n",
        "        \"\"\"\n",
        "        el método __init__ es el que se llama al crear una instancia de la clase\n",
        "        \"\"\"\n",
        "        self.arg1 = arg1\n",
        "        self.arg2 = arg2\n",
        "\n",
        "    def metodo1(self):\n",
        "        \"\"\"\n",
        "        doc string del método\n",
        "        \"\"\"\n",
        "        return self.arg1 + self.arg2\n",
        "   "
      ],
      "execution_count": 3,
      "outputs": []
    },
    {
      "cell_type": "code",
      "metadata": {
        "id": "Vh0FjjpeiTJY",
        "colab_type": "code",
        "colab": {}
      },
      "source": [
        "instanacia = MiClase(15, 1)"
      ],
      "execution_count": 10,
      "outputs": []
    },
    {
      "cell_type": "code",
      "metadata": {
        "id": "qgzymLi8jRMt",
        "colab_type": "code",
        "colab": {}
      },
      "source": [
        "instanacia.metodo1()"
      ],
      "execution_count": null,
      "outputs": []
    },
    {
      "cell_type": "code",
      "metadata": {
        "id": "jyJ92pAqiTJk",
        "colab_type": "code",
        "colab": {}
      },
      "source": [
        "MiClase?"
      ],
      "execution_count": null,
      "outputs": []
    },
    {
      "cell_type": "code",
      "metadata": {
        "id": "ic2opG_OiTJq",
        "colab_type": "code",
        "colab": {}
      },
      "source": [
        "instanacia.metodo1?"
      ],
      "execution_count": 12,
      "outputs": []
    },
    {
      "cell_type": "markdown",
      "metadata": {
        "id": "bK5eNHTKiTJ0",
        "colab_type": "text"
      },
      "source": [
        "#### Generadores\n",
        "\n",
        "Los generadores son un tipo especial de iteradores. A diferencia de una lista, por ejemplo, no contienen en memoria todos sus elementos, sino que los van \"generando\" a medida que le son requeridos"
      ]
    },
    {
      "cell_type": "code",
      "metadata": {
        "id": "Qd8CgLyxiTJ1",
        "colab_type": "code",
        "colab": {}
      },
      "source": [
        "generator = (a for a in range(10))\n",
        "generator"
      ],
      "execution_count": null,
      "outputs": []
    },
    {
      "cell_type": "code",
      "metadata": {
        "tags": [],
        "id": "66rYUvt-iTJ9",
        "colab_type": "code",
        "colab": {}
      },
      "source": [
        "for a in generator:\n",
        "    print(a)"
      ],
      "execution_count": 15,
      "outputs": []
    },
    {
      "cell_type": "code",
      "metadata": {
        "id": "JnmK2WkziTKF",
        "colab_type": "code",
        "colab": {}
      },
      "source": [
        "list(generator)"
      ],
      "execution_count": null,
      "outputs": []
    },
    {
      "cell_type": "markdown",
      "metadata": {
        "id": "e4CrX35bkGHV",
        "colab_type": "text"
      },
      "source": [
        "Usando Yield obtenemos un resultado similar a usar \"return\", excepto que se guardará el estado de la misma para ser usada como un generador"
      ]
    },
    {
      "cell_type": "code",
      "metadata": {
        "id": "UXeF_1aoiTKL",
        "colab_type": "code",
        "colab": {}
      },
      "source": [
        "def gen():\n",
        "    for a in range(10):\n",
        "        yield a"
      ],
      "execution_count": 28,
      "outputs": []
    },
    {
      "cell_type": "code",
      "metadata": {
        "id": "f3f35gKWiTKU",
        "colab_type": "code",
        "colab": {}
      },
      "source": [
        "generator = gen()"
      ],
      "execution_count": 32,
      "outputs": []
    },
    {
      "cell_type": "code",
      "metadata": {
        "id": "NacV31VJiTKa",
        "colab_type": "code",
        "colab": {}
      },
      "source": [
        "type(gen)"
      ],
      "execution_count": null,
      "outputs": []
    },
    {
      "cell_type": "code",
      "metadata": {
        "id": "3mtZ7RKRiTKn",
        "colab_type": "code",
        "colab": {}
      },
      "source": [
        "type(generator)"
      ],
      "execution_count": null,
      "outputs": []
    },
    {
      "cell_type": "code",
      "metadata": {
        "tags": [],
        "id": "xzWowDX3iTKx",
        "colab_type": "code",
        "colab": {}
      },
      "source": [
        "for a in generator:\n",
        "    print(a)"
      ],
      "execution_count": null,
      "outputs": []
    },
    {
      "cell_type": "code",
      "metadata": {
        "id": "fDOlFv5qkpdA",
        "colab_type": "code",
        "colab": {}
      },
      "source": [
        "generator = gen()"
      ],
      "execution_count": null,
      "outputs": []
    },
    {
      "cell_type": "code",
      "metadata": {
        "id": "cTZ_z-54iTK5",
        "colab_type": "code",
        "colab": {}
      },
      "source": [
        "next(generator)"
      ],
      "execution_count": null,
      "outputs": []
    },
    {
      "cell_type": "code",
      "metadata": {
        "id": "0JIlSilgiTLB",
        "colab_type": "code",
        "colab": {}
      },
      "source": [
        "from time import time\n",
        "def gen():\n",
        "    while True:\n",
        "        yield time()"
      ],
      "execution_count": 35,
      "outputs": []
    },
    {
      "cell_type": "code",
      "metadata": {
        "tags": [],
        "id": "mM-OhKZFiTLL",
        "colab_type": "code",
        "colab": {}
      },
      "source": [
        "for i, t in enumerate(gen()):\n",
        "    print(t)\n",
        "    if i > 10:\n",
        "        break"
      ],
      "execution_count": null,
      "outputs": []
    }
  ]
}